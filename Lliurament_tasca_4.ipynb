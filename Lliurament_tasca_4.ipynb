{
 "cells": [
  {
   "cell_type": "markdown",
   "metadata": {},
   "source": [
    "## Lliurament tasca 4: Pràctica amb programació numèrica\n",
    "\n",
    "### Exercici 1:\n",
    "\n",
    "#### Crea una funció que donat un Array d’una dimensió, et faci un resum estadístic bàsic de les dades. Si detecta que l’array té més d’una dimensió, ha de mostrar un missatge d’error."
   ]
  },
  {
   "cell_type": "code",
   "execution_count": 1,
   "metadata": {},
   "outputs": [],
   "source": [
    "import numpy as np\n",
    "\n",
    "def resum_array_1d(ndarray):\n",
    "    \"\"\"Imprimeix un resum estadístic bàsic de les dades. Només accepta arrays d'una dimensió.\"\"\"\n",
    "    if ndarray.ndim > 1:\n",
    "        raise ValueError(\"L'array té més d'una dimensió\")\n",
    "    else:\n",
    "        print(f\"Nombre d'elements: {len(ndarray)}\")\n",
    "        print(f\"La mitjana és: {ndarray.mean()}\")\n",
    "        print(f\"La mediana és: {np.median(ndarray)}\")\n",
    "        print(f\"La desviació estàndard és: {np.std(ndarray)}\")\n",
    "        "
   ]
  },
  {
   "cell_type": "markdown",
   "metadata": {},
   "source": [
    "_**A continuació comprovem el comportament bàsic de la funció creant un array d'una dimensió amb 10 floats aleatoris:**_"
   ]
  },
  {
   "cell_type": "code",
   "execution_count": 2,
   "metadata": {
    "scrolled": false
   },
   "outputs": [
    {
     "name": "stdout",
     "output_type": "stream",
     "text": [
      "Nombre d'elements: 10\n",
      "La mitjana és: 0.35497542746316235\n",
      "La mediana és: 0.35282950505851046\n",
      "La desviació estàndard és: 0.2093734678341288\n"
     ]
    }
   ],
   "source": [
    "from numpy import random\n",
    "\n",
    "# Comprovem la funcionalitat bàsica creant un array aleatori\n",
    "random_ndarray = random.rand(10)\n",
    "resum_array_1d(random_ndarray)"
   ]
  },
  {
   "cell_type": "markdown",
   "metadata": {},
   "source": [
    "_**I per últim comprovem que l'error té un comportament adequat creant un array de dues dimensions:**_"
   ]
  },
  {
   "cell_type": "code",
   "execution_count": 3,
   "metadata": {
    "scrolled": false
   },
   "outputs": [
    {
     "ename": "ValueError",
     "evalue": "L'array té més d'una dimensió",
     "output_type": "error",
     "traceback": [
      "\u001b[1;31m---------------------------------------------------------------------------\u001b[0m",
      "\u001b[1;31mValueError\u001b[0m                                Traceback (most recent call last)",
      "\u001b[1;32m<ipython-input-3-25e2a1c71c16>\u001b[0m in \u001b[0;36m<module>\u001b[1;34m\u001b[0m\n\u001b[0;32m      1\u001b[0m \u001b[1;31m# Creem un array de dues dimensions i el passem a la funció\u001b[0m\u001b[1;33m\u001b[0m\u001b[1;33m\u001b[0m\u001b[1;33m\u001b[0m\u001b[0m\n\u001b[0;32m      2\u001b[0m \u001b[0marray_2d\u001b[0m \u001b[1;33m=\u001b[0m \u001b[0mnp\u001b[0m\u001b[1;33m.\u001b[0m\u001b[0marray\u001b[0m\u001b[1;33m(\u001b[0m\u001b[1;33m[\u001b[0m\u001b[1;33m[\u001b[0m\u001b[1;36m2\u001b[0m\u001b[1;33m,\u001b[0m \u001b[1;36m2\u001b[0m\u001b[1;33m,\u001b[0m \u001b[1;36m3\u001b[0m\u001b[1;33m]\u001b[0m\u001b[1;33m,\u001b[0m \u001b[1;33m[\u001b[0m\u001b[1;36m3\u001b[0m\u001b[1;33m,\u001b[0m \u001b[1;36m5\u001b[0m\u001b[1;33m,\u001b[0m \u001b[1;36m9\u001b[0m\u001b[1;33m]\u001b[0m\u001b[1;33m]\u001b[0m\u001b[1;33m)\u001b[0m\u001b[1;33m\u001b[0m\u001b[1;33m\u001b[0m\u001b[0m\n\u001b[1;32m----> 3\u001b[1;33m \u001b[0mresum_array_1d\u001b[0m\u001b[1;33m(\u001b[0m\u001b[0marray_2d\u001b[0m\u001b[1;33m)\u001b[0m\u001b[1;33m\u001b[0m\u001b[1;33m\u001b[0m\u001b[0m\n\u001b[0m",
      "\u001b[1;32m<ipython-input-1-e0cb9a2cbbe4>\u001b[0m in \u001b[0;36mresum_array_1d\u001b[1;34m(ndarray)\u001b[0m\n\u001b[0;32m      4\u001b[0m     \u001b[1;34m\"\"\"Imprimeix un resum estadístic bàsic de les dades. Només accepta arrays d'una dimensió.\"\"\"\u001b[0m\u001b[1;33m\u001b[0m\u001b[1;33m\u001b[0m\u001b[0m\n\u001b[0;32m      5\u001b[0m     \u001b[1;32mif\u001b[0m \u001b[0mndarray\u001b[0m\u001b[1;33m.\u001b[0m\u001b[0mndim\u001b[0m \u001b[1;33m>\u001b[0m \u001b[1;36m1\u001b[0m\u001b[1;33m:\u001b[0m\u001b[1;33m\u001b[0m\u001b[1;33m\u001b[0m\u001b[0m\n\u001b[1;32m----> 6\u001b[1;33m         \u001b[1;32mraise\u001b[0m \u001b[0mValueError\u001b[0m\u001b[1;33m(\u001b[0m\u001b[1;34m\"L'array té més d'una dimensió\"\u001b[0m\u001b[1;33m)\u001b[0m\u001b[1;33m\u001b[0m\u001b[1;33m\u001b[0m\u001b[0m\n\u001b[0m\u001b[0;32m      7\u001b[0m     \u001b[1;32melse\u001b[0m\u001b[1;33m:\u001b[0m\u001b[1;33m\u001b[0m\u001b[1;33m\u001b[0m\u001b[0m\n\u001b[0;32m      8\u001b[0m         \u001b[0mprint\u001b[0m\u001b[1;33m(\u001b[0m\u001b[1;34mf\"Nombre d'elements: {len(ndarray)}\"\u001b[0m\u001b[1;33m)\u001b[0m\u001b[1;33m\u001b[0m\u001b[1;33m\u001b[0m\u001b[0m\n",
      "\u001b[1;31mValueError\u001b[0m: L'array té més d'una dimensió"
     ]
    }
   ],
   "source": [
    "# Creem un array de dues dimensions i el passem a la funció\n",
    "array_2d = np.array([[2, 2, 3], [3, 5, 9]])\n",
    "resum_array_1d(array_2d)"
   ]
  },
  {
   "cell_type": "markdown",
   "metadata": {},
   "source": [
    "### Exercici 2:\n",
    "\n",
    "#### Crea una funció que et generi un quadrat NxN de nombres aleatoris entre el 0 i el 100.\n"
   ]
  },
  {
   "cell_type": "markdown",
   "metadata": {},
   "source": [
    "_**Aquesta funció és lleugerament diferent depenent de si es necessiten ints o floats.**_"
   ]
  },
  {
   "cell_type": "code",
   "execution_count": 4,
   "metadata": {},
   "outputs": [
    {
     "name": "stdout",
     "output_type": "stream",
     "text": [
      "[[ 1.95124334 61.26371591 43.40182022]\n",
      " [98.70857755 38.48266484 72.62712226]]\n"
     ]
    }
   ],
   "source": [
    "def genera_quadrat_random_float(width, height):\n",
    "    \"\"\"Genera un quadrat width*height de floats aleatoris entre el 0 i el 100.\"\"\"\n",
    "    return 100 * random.rand(height, width)\n",
    "\n",
    "print(genera_quadrat_random_float(3, 2))"
   ]
  },
  {
   "cell_type": "code",
   "execution_count": 5,
   "metadata": {},
   "outputs": [
    {
     "name": "stdout",
     "output_type": "stream",
     "text": [
      "[[56 29 38]\n",
      " [52 28 70]]\n"
     ]
    }
   ],
   "source": [
    "def genera_quadrat_random_int(width, height):\n",
    "    \"\"\"Genera un quadrat width*height de ints aleatoris entre el 0 i el 100.\"\"\"\n",
    "    return random.randint(100, size=(height, width))\n",
    "\n",
    "print(genera_quadrat_random_int(3, 2))"
   ]
  },
  {
   "cell_type": "markdown",
   "metadata": {},
   "source": [
    "### Exercici 3:\n",
    "\n",
    "#### Crea una funció que donada una taula de dues dimensions, et calculi els totals per fila i els totals per columna."
   ]
  },
  {
   "cell_type": "code",
   "execution_count": 6,
   "metadata": {},
   "outputs": [],
   "source": [
    "def row_column_total(array_2d):\n",
    "    total_row = array_2d.sum(axis=1)\n",
    "    total_column = array_2d.sum(axis=0)\n",
    "    print(f\"Totals per fila: {total_row}\")\n",
    "    print(f\"Totals per columna: {total_column}\")\n",
    "    \n",
    "    return total_row, total_column"
   ]
  },
  {
   "cell_type": "markdown",
   "metadata": {},
   "source": [
    "_**Farem servir la nostra propia funció, ``genera_quadrat_random_int``, per a comprovar els resultats**_"
   ]
  },
  {
   "cell_type": "code",
   "execution_count": 7,
   "metadata": {
    "scrolled": true
   },
   "outputs": [
    {
     "name": "stdout",
     "output_type": "stream",
     "text": [
      "[[33 23 97]\n",
      " [61  5 67]\n",
      " [ 5 58 16]]\n",
      "Totals per fila: [153 133  79]\n",
      "Totals per columna: [ 99  86 180]\n"
     ]
    },
    {
     "data": {
      "text/plain": [
       "(array([153, 133,  79]), array([ 99,  86, 180]))"
      ]
     },
     "execution_count": 7,
     "metadata": {},
     "output_type": "execute_result"
    }
   ],
   "source": [
    "example_array = genera_quadrat_random_int(3, 3)\n",
    "print(example_array)\n",
    "row_column_total(example_array)"
   ]
  },
  {
   "attachments": {
    "Correlation-Coefficient-Formula.png": {
     "image/png": "[encoded data removed]"
    }
   },
   "cell_type": "markdown",
   "metadata": {},
   "source": [
    "### Exercici 4:\n",
    "\n",
    "#### Implementa manualment una funció que calculi el coeficient de correlació. Informa’t-en sobre els seus usos i interpretació.\n",
    "\n",
    "_**Per a aquest exercici implementarem en codi la següent fòrmula:**_\n",
    "\n",
    "![Correlation-Coefficient-Formula.png](attachment:Correlation-Coefficient-Formula.png)"
   ]
  },
  {
   "cell_type": "code",
   "execution_count": 8,
   "metadata": {},
   "outputs": [],
   "source": [
    "import math\n",
    "\n",
    "def corrcoef_manual(llista_x, llista_y):\n",
    "    if len(llista_x) != len(llista_y):\n",
    "        raise ValueError(\"Les llistes tenen formes diferents.\")\n",
    "    else:\n",
    "        total_x = total_y = total_x2 = total_y2 = total_xy = 0\n",
    "        # Per a una major eficiència, farem ús de zip() per a iterar un sol cop pel dataset sencer.\n",
    "        for x, y in zip(llista_x, llista_y):\n",
    "            total_x += x\n",
    "            total_y += y\n",
    "            total_x2 += x**2\n",
    "            total_y2 += y**2\n",
    "            total_xy += x*y\n",
    "        \n",
    "        population = len(llista_x)\n",
    "    \n",
    "        # Fòrmula de Pearson\n",
    "        return (population*total_xy - (total_x*total_y)) / \\\n",
    "                math.sqrt((population*total_x2 - (total_x**2)) * (population*total_y2 - (total_y**2)))"
   ]
  },
  {
   "cell_type": "markdown",
   "metadata": {},
   "source": [
    "_**Comprovem que la funció calcula el resultat correcte comparant-la amb la funció de numpy**_"
   ]
  },
  {
   "cell_type": "code",
   "execution_count": 9,
   "metadata": {
    "scrolled": false
   },
   "outputs": [
    {
     "name": "stdout",
     "output_type": "stream",
     "text": [
      "Coeficient de correlació de numpy:\n",
      "0.1915318591466032\n",
      "Coeficient de correlació de funció pròpia:\n",
      "0.19153185914660323\n"
     ]
    }
   ],
   "source": [
    "sample_x = [3, 5, 12, 8, 10]\n",
    "sample_y = [3, 6, 7, 12, 2]\n",
    "print(\"Coeficient de correlació de numpy:\")\n",
    "print(f\"{np.corrcoef(sample_x, sample_y)[0, 1]}\")\n",
    "print(\"Coeficient de correlació de funció pròpia:\")\n",
    "print(f\"{corrcoef_manual(sample_x, sample_y)}\")"
   ]
  }
 ],
 "metadata": {
  "kernelspec": {
   "display_name": "Python 3",
   "language": "python",
   "name": "python3"
  },
  "language_info": {
   "codemirror_mode": {
    "name": "ipython",
    "version": 3
   },
   "file_extension": ".py",
   "mimetype": "text/x-python",
   "name": "python",
   "nbconvert_exporter": "python",
   "pygments_lexer": "ipython3",
   "version": "3.8.5"
  }
 },
 "nbformat": 4,
 "nbformat_minor": 4
}
